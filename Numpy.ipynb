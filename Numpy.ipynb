{
  "nbformat": 4,
  "nbformat_minor": 0,
  "metadata": {
    "colab": {
      "name": "Numpy",
      "provenance": [],
      "collapsed_sections": [],
      "authorship_tag": "ABX9TyOx6MQ0Pv96hCzq1pPVpZqv",
      "include_colab_link": true
    },
    "kernelspec": {
      "name": "python3",
      "display_name": "Python 3"
    },
    "language_info": {
      "name": "python"
    }
  },
  "cells": [
    {
      "cell_type": "markdown",
      "metadata": {
        "id": "view-in-github",
        "colab_type": "text"
      },
      "source": [
        "<a href=\"https://colab.research.google.com/github/Rushi12bhalkar/Numpy-Liberary--Python-Data-Science-/blob/main/Numpy.ipynb\" target=\"_parent\"><img src=\"https://colab.research.google.com/assets/colab-badge.svg\" alt=\"Open In Colab\"/></a>"
      ]
    },
    {
      "cell_type": "markdown",
      "source": [
        "# Numpy\n",
        "\n",
        "**Introduction to NumPy**\n",
        "* NumPy is the fundamental package for scientific computing with Python.\n",
        "* NumPy stands for Numerical Python.\n",
        "* Supports N-dimensional array objects that can be used for processing multidimensional data.\n",
        "* Supports different data-types.\n"
      ],
      "metadata": {
        "id": "kebTy9Xc9H4k"
      }
    },
    {
      "cell_type": "markdown",
      "source": [
        "**Array**\n",
        "\n",
        "* An array is a data structure that stores values of same data type.\n",
        "* Lists can contain values corresponding to different data types.\n",
        "* Arrays in python can only contain values corresponding to same data type."
      ],
      "metadata": {
        "id": "doc0t4Xb9bRO"
      }
    },
    {
      "cell_type": "code",
      "source": [
        "cars = [\"Ford\", \"Volvo\", \"BMW\"]\n",
        "print (cars)\n",
        "print (type(cars))"
      ],
      "metadata": {
        "colab": {
          "base_uri": "https://localhost:8080/",
          "height": 0
        },
        "id": "llDz87jU9cKQ",
        "outputId": "91bab3e6-ef91-47af-8e30-cb5e186d6121"
      },
      "execution_count": 1,
      "outputs": [
        {
          "output_type": "stream",
          "name": "stdout",
          "text": [
            "['Ford', 'Volvo', 'BMW']\n",
            "<class 'list'>\n"
          ]
        }
      ]
    },
    {
      "cell_type": "code",
      "source": [
        "x = cars[0]\n",
        "print (x)"
      ],
      "metadata": {
        "colab": {
          "base_uri": "https://localhost:8080/"
        },
        "id": "_M9QWCbY9qs3",
        "outputId": "882fe9d5-fcee-4190-92e0-9c35ae43eefc"
      },
      "execution_count": null,
      "outputs": [
        {
          "output_type": "stream",
          "name": "stdout",
          "text": [
            "Ford\n"
          ]
        }
      ]
    },
    {
      "cell_type": "code",
      "source": [
        "x = len(cars)\n",
        "print (x)"
      ],
      "metadata": {
        "colab": {
          "base_uri": "https://localhost:8080/"
        },
        "id": "kEPM3z5i95xy",
        "outputId": "e3d80151-84e9-4b28-8ea3-b2cc0ae03c43"
      },
      "execution_count": null,
      "outputs": [
        {
          "output_type": "stream",
          "name": "stdout",
          "text": [
            "3\n"
          ]
        }
      ]
    },
    {
      "cell_type": "code",
      "source": [
        "cars.append(\"Honda\")    # Adding Array Elements\n",
        "print (cars)"
      ],
      "metadata": {
        "colab": {
          "base_uri": "https://localhost:8080/"
        },
        "id": "a8WAQ33p99BL",
        "outputId": "6244bec7-0832-408c-980a-923b8e9bd43b"
      },
      "execution_count": null,
      "outputs": [
        {
          "output_type": "stream",
          "name": "stdout",
          "text": [
            "['Ford', 'Volvo', 'BMW', 'Honda']\n"
          ]
        }
      ]
    },
    {
      "cell_type": "code",
      "source": [
        "cars.pop(1)             # Removing Array Elements\n",
        "print (cars)"
      ],
      "metadata": {
        "colab": {
          "base_uri": "https://localhost:8080/"
        },
        "id": "Cimv-q4i-ESc",
        "outputId": "631b316f-c254-4182-c366-a0db831cce70"
      },
      "execution_count": null,
      "outputs": [
        {
          "output_type": "stream",
          "name": "stdout",
          "text": [
            "['Ford', 'BMW', 'Honda']\n"
          ]
        }
      ]
    },
    {
      "cell_type": "markdown",
      "source": [
        "**Array Methods**\n",
        "\n",
        "![image.png](data:image/png;base64,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)"
      ],
      "metadata": {
        "id": "QwWKNTYl-SIZ"
      }
    },
    {
      "cell_type": "markdown",
      "source": [
        "**NumPy Array**\n",
        "\n",
        "* A numpy array is a grid of values, all of the same type, and is indexed by a tuple of nonnegative integers. \n",
        "* The number of dimensions is the rank of the array.\n",
        "* The shape of an array is a tuple of integers giving the size of the array along each dimension. "
      ],
      "metadata": {
        "id": "z8Zh3L_R-glV"
      }
    },
    {
      "cell_type": "code",
      "source": [
        "MyArray = [1,2,3,4,5,6]\n",
        "print (MyArray)\n",
        "print (type(MyArray))"
      ],
      "metadata": {
        "colab": {
          "base_uri": "https://localhost:8080/"
        },
        "id": "0irjGT5q-l0G",
        "outputId": "44f497d2-b475-4d97-d5e7-043ba98cf2b6"
      },
      "execution_count": null,
      "outputs": [
        {
          "output_type": "stream",
          "name": "stdout",
          "text": [
            "[1, 2, 3, 4, 5, 6]\n",
            "<class 'list'>\n"
          ]
        }
      ]
    },
    {
      "cell_type": "code",
      "source": [
        "import numpy as np\n"
      ],
      "metadata": {
        "colab": {
          "base_uri": "https://localhost:8080/"
        },
        "id": "rw32wIj9-r-M",
        "outputId": "77741d06-3a28-4162-da60-02c60641ed8b"
      },
      "execution_count": null,
      "outputs": [
        {
          "output_type": "stream",
          "name": "stdout",
          "text": [
            "[1 2 3 4 5 6]\n",
            "<class 'numpy.ndarray'>\n"
          ]
        }
      ]
    },
    {
      "cell_type": "code",
      "source": [
        "array = np.array(MyArray, dtype = int)\n",
        "print (array)\n",
        "print (type(array))"
      ],
      "metadata": {
        "colab": {
          "base_uri": "https://localhost:8080/"
        },
        "id": "k3Maho9V_CSe",
        "outputId": "4563457f-fbe7-40bd-8306-67c4c0ef786e"
      },
      "execution_count": null,
      "outputs": [
        {
          "output_type": "stream",
          "name": "stdout",
          "text": [
            "[1 2 3 4 5 6]\n",
            "<class 'numpy.ndarray'>\n"
          ]
        }
      ]
    },
    {
      "cell_type": "code",
      "source": [
        "print (len(array))\n",
        "print (array.ndim)\n",
        "print (array.shape)"
      ],
      "metadata": {
        "colab": {
          "base_uri": "https://localhost:8080/"
        },
        "id": "tFcX-_L2_Hfo",
        "outputId": "a83e2e52-ad39-4926-d354-fc9868c7b530"
      },
      "execution_count": null,
      "outputs": [
        {
          "output_type": "stream",
          "name": "stdout",
          "text": [
            "6\n",
            "1\n",
            "(6,)\n"
          ]
        }
      ]
    },
    {
      "cell_type": "code",
      "source": [
        "array2 = array.reshape(3,2)\n",
        "print (array2)\n",
        "array2.shape"
      ],
      "metadata": {
        "colab": {
          "base_uri": "https://localhost:8080/"
        },
        "id": "uehigwgZ_hms",
        "outputId": "7e76d9c3-a016-4608-8d73-e5a908778b70"
      },
      "execution_count": null,
      "outputs": [
        {
          "output_type": "stream",
          "name": "stdout",
          "text": [
            "[[1 2]\n",
            " [3 4]\n",
            " [5 6]]\n"
          ]
        },
        {
          "output_type": "execute_result",
          "data": {
            "text/plain": [
              "(3, 2)"
            ]
          },
          "metadata": {},
          "execution_count": 10
        }
      ]
    },
    {
      "cell_type": "code",
      "source": [
        "array3 = array.reshape(3,-1)\n",
        "print (array3)\n",
        "array3.shape"
      ],
      "metadata": {
        "colab": {
          "base_uri": "https://localhost:8080/"
        },
        "id": "lqSNxU6R_nqt",
        "outputId": "0c9460c1-41e5-4197-c4bb-fb7da7e6f525"
      },
      "execution_count": null,
      "outputs": [
        {
          "output_type": "stream",
          "name": "stdout",
          "text": [
            "[[1 2]\n",
            " [3 4]\n",
            " [5 6]]\n"
          ]
        },
        {
          "output_type": "execute_result",
          "data": {
            "text/plain": [
              "(3, 2)"
            ]
          },
          "metadata": {},
          "execution_count": 11
        }
      ]
    },
    {
      "cell_type": "code",
      "source": [
        "# Creating numpy arrays from nested python lists\n",
        "import numpy as np\n",
        "list1 = [1,2,3,4,5]\n",
        "list2 = [6,7,8,9,10]\n",
        "list3 = [11,12,13,14,15]\n",
        "\n",
        "mul_arr = np.array([list1, list2, list3])\n",
        "\n",
        "print (mul_arr)\n",
        "print (mul_arr.shape)\n",
        "mul_arr.reshape(1,15)"
      ],
      "metadata": {
        "colab": {
          "base_uri": "https://localhost:8080/"
        },
        "id": "vgP498xY_tvo",
        "outputId": "f155ca8d-ec83-43df-e7cc-4adca6c431d5"
      },
      "execution_count": null,
      "outputs": [
        {
          "output_type": "stream",
          "name": "stdout",
          "text": [
            "[[ 1  2  3  4  5]\n",
            " [ 6  7  8  9 10]\n",
            " [11 12 13 14 15]]\n",
            "(3, 5)\n"
          ]
        },
        {
          "output_type": "execute_result",
          "data": {
            "text/plain": [
              "array([[ 1,  2,  3,  4,  5,  6,  7,  8,  9, 10, 11, 12, 13, 14, 15]])"
            ]
          },
          "metadata": {},
          "execution_count": 19
        }
      ]
    },
    {
      "cell_type": "code",
      "source": [
        "a = np.array([[1,2,3],[4,5,6]])\n",
        "print(a)\n",
        "print (a.shape)"
      ],
      "metadata": {
        "colab": {
          "base_uri": "https://localhost:8080/"
        },
        "id": "lvarDjUZAf7p",
        "outputId": "0f2c5a4d-e19d-4289-f3d1-5110d27facb0"
      },
      "execution_count": null,
      "outputs": [
        {
          "output_type": "stream",
          "name": "stdout",
          "text": [
            "[[1 2 3]\n",
            " [4 5 6]]\n",
            "(2, 3)\n"
          ]
        }
      ]
    },
    {
      "cell_type": "code",
      "source": [
        "a.shape = (3,2)     # Reshaping the ndarray\n",
        "print(a)"
      ],
      "metadata": {
        "colab": {
          "base_uri": "https://localhost:8080/"
        },
        "id": "52OKKeDYAt1s",
        "outputId": "745c17c9-221f-442b-ae5d-544f15f340a8"
      },
      "execution_count": null,
      "outputs": [
        {
          "output_type": "stream",
          "name": "stdout",
          "text": [
            "[[1 2]\n",
            " [3 4]\n",
            " [5 6]]\n"
          ]
        }
      ]
    },
    {
      "cell_type": "code",
      "source": [
        "b = a.reshape(3,2)\n",
        "print (b)"
      ],
      "metadata": {
        "colab": {
          "base_uri": "https://localhost:8080/"
        },
        "id": "F8Y89vS1AygS",
        "outputId": "e5c86dff-2976-4126-d390-976b811b2c25"
      },
      "execution_count": null,
      "outputs": [
        {
          "output_type": "stream",
          "name": "stdout",
          "text": [
            "[[1 2]\n",
            " [3 4]\n",
            " [5 6]]\n"
          ]
        }
      ]
    },
    {
      "cell_type": "code",
      "source": [
        "r = range(1,10,1)     # range(start, stop, step)\n",
        "\n",
        "for n in r:\n",
        "  print(n)"
      ],
      "metadata": {
        "colab": {
          "base_uri": "https://localhost:8080/"
        },
        "id": "arZBoRFyBD6W",
        "outputId": "23c1736c-94a9-4e6d-cbb2-fdeb1d6f38aa"
      },
      "execution_count": null,
      "outputs": [
        {
          "output_type": "stream",
          "name": "stdout",
          "text": [
            "1\n",
            "2\n",
            "3\n",
            "4\n",
            "5\n",
            "6\n",
            "7\n",
            "8\n",
            "9\n"
          ]
        }
      ]
    },
    {
      "cell_type": "code",
      "source": [
        "r = range(15)\n",
        "print (r)"
      ],
      "metadata": {
        "colab": {
          "base_uri": "https://localhost:8080/"
        },
        "id": "bbSiM6-hBJ5B",
        "outputId": "ff3b9cc4-ae1a-47e6-8594-85abee9024de"
      },
      "execution_count": null,
      "outputs": [
        {
          "output_type": "stream",
          "name": "stdout",
          "text": [
            "range(0, 15)\n"
          ]
        }
      ]
    },
    {
      "cell_type": "code",
      "source": [
        "a = np.arange(15)\n",
        "print (a)\n",
        "print (a.ndim)"
      ],
      "metadata": {
        "colab": {
          "base_uri": "https://localhost:8080/"
        },
        "id": "qASQN_iyBNSf",
        "outputId": "a37d7133-f35f-4aac-f54b-e4b45898bea1"
      },
      "execution_count": null,
      "outputs": [
        {
          "output_type": "stream",
          "name": "stdout",
          "text": [
            "[ 0  1  2  3  4  5  6  7  8  9 10 11 12 13 14]\n",
            "1\n"
          ]
        }
      ]
    },
    {
      "cell_type": "code",
      "source": [
        "b = a.reshape(5,3,1)\n",
        "print (b)"
      ],
      "metadata": {
        "colab": {
          "base_uri": "https://localhost:8080/"
        },
        "id": "FEkEO10DBUOI",
        "outputId": "741ad283-af3b-4a80-c2d0-c2dac2ef847a"
      },
      "execution_count": null,
      "outputs": [
        {
          "output_type": "stream",
          "name": "stdout",
          "text": [
            "[[[ 0]\n",
            "  [ 1]\n",
            "  [ 2]]\n",
            "\n",
            " [[ 3]\n",
            "  [ 4]\n",
            "  [ 5]]\n",
            "\n",
            " [[ 6]\n",
            "  [ 7]\n",
            "  [ 8]]\n",
            "\n",
            " [[ 9]\n",
            "  [10]\n",
            "  [11]]\n",
            "\n",
            " [[12]\n",
            "  [13]\n",
            "  [14]]]\n"
          ]
        }
      ]
    },
    {
      "cell_type": "code",
      "source": [
        "x = np.array([1,2,3,4,5], dtype = np.int8)  # 1 byte\n",
        "print (x)\n",
        "print (x.itemsize)"
      ],
      "metadata": {
        "colab": {
          "base_uri": "https://localhost:8080/"
        },
        "id": "dXE_CRV5BdOl",
        "outputId": "f5231102-3bd9-46f7-9035-8b487abc883d"
      },
      "execution_count": null,
      "outputs": [
        {
          "output_type": "stream",
          "name": "stdout",
          "text": [
            "[1 2 3 4 5]\n",
            "1\n"
          ]
        }
      ]
    },
    {
      "cell_type": "code",
      "source": [
        "x = np.array([1.2,2.3,3.4,4.5,5.6], dtype = np.float32)  # 4 byte\n",
        "print (x)\n",
        "print (x.itemsize)"
      ],
      "metadata": {
        "colab": {
          "base_uri": "https://localhost:8080/"
        },
        "id": "ZiVGdwe2Bg_R",
        "outputId": "3dd20b43-5ab4-489f-e8f5-306ca6b9092c"
      },
      "execution_count": null,
      "outputs": [
        {
          "output_type": "stream",
          "name": "stdout",
          "text": [
            "[1.2 2.3 3.4 4.5 5.6]\n",
            "4\n"
          ]
        }
      ]
    },
    {
      "cell_type": "markdown",
      "source": [
        "**NumPy Arithmetic Operations and Functions**"
      ],
      "metadata": {
        "id": "jb80XvDNBs8J"
      }
    },
    {
      "cell_type": "code",
      "source": [
        "a = np.array([1,2,3,4,5])\n",
        "b = np.array([100,200,300,400,500])"
      ],
      "metadata": {
        "id": "O6mAiGurBtl9"
      },
      "execution_count": null,
      "outputs": []
    },
    {
      "cell_type": "code",
      "source": [
        "np.add(a, b)        # NumPy Add function"
      ],
      "metadata": {
        "colab": {
          "base_uri": "https://localhost:8080/"
        },
        "id": "PtosRzf9By41",
        "outputId": "dfc2b7c7-c17b-4a88-b193-315f51df2109"
      },
      "execution_count": null,
      "outputs": [
        {
          "output_type": "execute_result",
          "data": {
            "text/plain": [
              "array([101, 202, 303, 404, 505])"
            ]
          },
          "metadata": {},
          "execution_count": 27
        }
      ]
    },
    {
      "cell_type": "code",
      "source": [
        "print (a+b)         # NumPy Add operator"
      ],
      "metadata": {
        "colab": {
          "base_uri": "https://localhost:8080/"
        },
        "id": "xuiS_ZaaB4aW",
        "outputId": "8fa5c6ea-3c69-4490-b80b-d1b8bf234301"
      },
      "execution_count": null,
      "outputs": [
        {
          "output_type": "stream",
          "name": "stdout",
          "text": [
            "[101 202 303 404 505]\n"
          ]
        }
      ]
    },
    {
      "cell_type": "code",
      "source": [
        "np.subtract(a,b)    # NumPy Subtract function"
      ],
      "metadata": {
        "colab": {
          "base_uri": "https://localhost:8080/"
        },
        "id": "Y6tmwikPB7xp",
        "outputId": "7c0344ad-57f9-4f8a-c813-ea15089ba949"
      },
      "execution_count": null,
      "outputs": [
        {
          "output_type": "execute_result",
          "data": {
            "text/plain": [
              "array([ -99, -198, -297, -396, -495])"
            ]
          },
          "metadata": {},
          "execution_count": 29
        }
      ]
    },
    {
      "cell_type": "code",
      "source": [
        "print(a-b)   # Numpy Subtract Operator"
      ],
      "metadata": {
        "id": "QA76_BuWCFAe"
      },
      "execution_count": null,
      "outputs": []
    },
    {
      "cell_type": "code",
      "source": [
        "print (a-b)         # NumPy Subtract operator"
      ],
      "metadata": {
        "colab": {
          "base_uri": "https://localhost:8080/"
        },
        "id": "ae56NmpRCOKQ",
        "outputId": "584b3474-8036-4d7c-fde8-f554c9c3d6ca"
      },
      "execution_count": null,
      "outputs": [
        {
          "output_type": "stream",
          "name": "stdout",
          "text": [
            "[ -99 -198 -297 -396 -495]\n"
          ]
        }
      ]
    },
    {
      "cell_type": "code",
      "source": [
        "np.multiply(a, b)   # NumPy Multiplication function"
      ],
      "metadata": {
        "colab": {
          "base_uri": "https://localhost:8080/"
        },
        "id": "9YQ-A4OgCRUj",
        "outputId": "3f348a48-2e01-445c-a89d-969e9cf5bd75"
      },
      "execution_count": null,
      "outputs": [
        {
          "output_type": "execute_result",
          "data": {
            "text/plain": [
              "array([ 100,  400,  900, 1600, 2500])"
            ]
          },
          "metadata": {},
          "execution_count": 31
        }
      ]
    },
    {
      "cell_type": "code",
      "source": [
        "print (a*b)         # NumPy Multiplication operator"
      ],
      "metadata": {
        "colab": {
          "base_uri": "https://localhost:8080/"
        },
        "id": "7bVbmjy-CVKp",
        "outputId": "e7928013-6ee4-44f0-8981-3f1eb697277e"
      },
      "execution_count": null,
      "outputs": [
        {
          "output_type": "stream",
          "name": "stdout",
          "text": [
            "[ 100  400  900 1600 2500]\n"
          ]
        }
      ]
    },
    {
      "cell_type": "code",
      "source": [
        "np.divide(a,b)      # NumPy Division function"
      ],
      "metadata": {
        "colab": {
          "base_uri": "https://localhost:8080/"
        },
        "id": "0bhVGULYCauu",
        "outputId": "5b6b1ea3-c40f-49be-8059-62abe9b46f88"
      },
      "execution_count": null,
      "outputs": [
        {
          "output_type": "execute_result",
          "data": {
            "text/plain": [
              "array([0.01, 0.01, 0.01, 0.01, 0.01])"
            ]
          },
          "metadata": {},
          "execution_count": 34
        }
      ]
    },
    {
      "cell_type": "code",
      "source": [
        "print (a/b)         # NumPy Division operator"
      ],
      "metadata": {
        "colab": {
          "base_uri": "https://localhost:8080/"
        },
        "id": "bQcdSsqeC6pg",
        "outputId": "10b38af7-d75f-431a-a33c-69c60d601c73"
      },
      "execution_count": null,
      "outputs": [
        {
          "output_type": "stream",
          "name": "stdout",
          "text": [
            "[0.01 0.01 0.01 0.01 0.01]\n"
          ]
        }
      ]
    },
    {
      "cell_type": "code",
      "source": [
        "np.remainder(a,b)   # NumPy Remainder function"
      ],
      "metadata": {
        "colab": {
          "base_uri": "https://localhost:8080/"
        },
        "id": "Bko5e-jXC8o4",
        "outputId": "eef16a9e-f5f5-48d4-cd42-7b41d18e32eb"
      },
      "execution_count": null,
      "outputs": [
        {
          "output_type": "execute_result",
          "data": {
            "text/plain": [
              "array([1, 2, 3, 4, 5])"
            ]
          },
          "metadata": {},
          "execution_count": 36
        }
      ]
    },
    {
      "cell_type": "code",
      "source": [
        "np.mod(a,b)         # NumPy Mod function"
      ],
      "metadata": {
        "colab": {
          "base_uri": "https://localhost:8080/"
        },
        "id": "AvoJjvivDAtf",
        "outputId": "ec77fbfd-e90e-45da-878c-f87261aa8316"
      },
      "execution_count": null,
      "outputs": [
        {
          "output_type": "execute_result",
          "data": {
            "text/plain": [
              "array([1, 2, 3, 4, 5])"
            ]
          },
          "metadata": {},
          "execution_count": 37
        }
      ]
    },
    {
      "cell_type": "code",
      "source": [
        "np.power(a,b)       # NumPy Power function"
      ],
      "metadata": {
        "colab": {
          "base_uri": "https://localhost:8080/"
        },
        "id": "xpNf78uSDGKt",
        "outputId": "855dd785-1bba-4347-8448-a7a49b51c184"
      },
      "execution_count": null,
      "outputs": [
        {
          "output_type": "execute_result",
          "data": {
            "text/plain": [
              "array([                   1,                    0,  4157753088978724465,\n",
              "                          0, -2947007275342514511])"
            ]
          },
          "metadata": {},
          "execution_count": 38
        }
      ]
    },
    {
      "cell_type": "code",
      "source": [
        "a = np.array([1,2,3,4,5])\n",
        "np.reciprocal(a)    # inverse of a value or a number"
      ],
      "metadata": {
        "colab": {
          "base_uri": "https://localhost:8080/"
        },
        "id": "MdRshsD3DKJR",
        "outputId": "b12da0fb-6108-4f60-b6a1-fa84ae1e42fd"
      },
      "execution_count": null,
      "outputs": [
        {
          "output_type": "execute_result",
          "data": {
            "text/plain": [
              "array([1, 0, 0, 0, 0])"
            ]
          },
          "metadata": {},
          "execution_count": 39
        }
      ]
    },
    {
      "cell_type": "code",
      "source": [
        "a = np.array([1,2,3,4,5])\n",
        "print (np.sum(a))             # sum of all elements\n",
        "print (np.sum(a, axis = 0))   # sum of each column\n",
        "# print (np.sum(a, axis = 1))   # sum of each row"
      ],
      "metadata": {
        "colab": {
          "base_uri": "https://localhost:8080/"
        },
        "id": "_4Ca_s7NDOX1",
        "outputId": "4182fcdb-7d22-4132-db16-392625592536"
      },
      "execution_count": null,
      "outputs": [
        {
          "output_type": "stream",
          "name": "stdout",
          "text": [
            "15\n",
            "15\n"
          ]
        }
      ]
    }
  ]
}